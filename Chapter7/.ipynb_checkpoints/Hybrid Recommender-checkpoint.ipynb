{
 "cells": [
  {
   "cell_type": "markdown",
   "metadata": {},
   "source": [
    "# Hybrid Recommenders"
   ]
  },
  {
   "cell_type": "code",
   "execution_count": null,
   "metadata": {},
   "outputs": [],
   "source": [
    "import numpy as np\n",
    "import pandas as pd"
   ]
  },
  {
   "cell_type": "code",
   "execution_count": null,
   "metadata": {},
   "outputs": [],
   "source": [
    "#Import or compute the cosine_sim matrix\n",
    "cosine_sim = pd.read_csv('../data/cosine_sim.csv')"
   ]
  },
  {
   "cell_type": "code",
   "execution_count": null,
   "metadata": {},
   "outputs": [],
   "source": [
    "#Import or compute the cosine sim mapping matrix\n",
    "cosine_sim_map = pd.read_csv('../data/cosine_sim_map.csv', header=None)\n",
    "\n",
    "#Convert cosine_sim_map into a Pandas Series\n",
    "cosine_sim_map = cosine_sim_map.set_index(0)\n",
    "cosine_sim_map = cosine_sim_map[1]"
   ]
  },
  {
   "cell_type": "code",
   "execution_count": null,
   "metadata": {},
   "outputs": [],
   "source": [
    "#Build the SVD based Collaborative filter\n",
    "from surprise import SVD, Reader, Dataset\n",
    "\n",
    "reader = Reader()\n",
    "ratings = pd.read_csv('../data/ratings_small.csv')\n",
    "data = Dataset.load_from_df(ratings[['userId', 'movieId', 'rating']], reader)\n",
    "data.split(n_folds=5)\n",
    "svd = SVD()\n",
    "trainset = data.build_full_trainset()\n",
    "svd.train(trainset)"
   ]
  },
  {
   "cell_type": "code",
   "execution_count": null,
   "metadata": {},
   "outputs": [],
   "source": [
    "#Build title to ID and ID to title mappings\n",
    "id_map = pd.read_csv('../data/movie_ids.csv')\n",
    "id_to_title = id_map.set_index('id')\n",
    "title_to_id = id_map.set_index('title')"
   ]
  },
  {
   "cell_type": "code",
   "execution_count": null,
   "metadata": {},
   "outputs": [],
   "source": [
    "#Import or compute relevant metadata of the movies\n",
    "smd = pd.read_csv('../data/metadata_small.csv')"
   ]
  },
  {
   "cell_type": "code",
   "execution_count": null,
   "metadata": {},
   "outputs": [],
   "source": [
    "def hybrid(userId, title):\n",
    "    #Extract the cosine_sim index of the movie\n",
    "    idx = cosine_sim_map[title]\n",
    "    \n",
    "    #Extract the TMDB ID of the movie\n",
    "    tmdbId = title_to_id.loc[title]['id']\n",
    "    \n",
    "    #Extract the movie ID internally assigned by the dataset\n",
    "    movie_id = title_to_id.loc[title]['movieId']\n",
    "    \n",
    "    #Extract the similarity scores and their corresponding index for every movie from the cosine_sim matrix\n",
    "    sim_scores = list(enumerate(cosine_sim[str(int(idx))]))\n",
    "    \n",
    "    #Sort the (index, score) tuples in decreasing order of similarity scores\n",
    "    sim_scores = sorted(sim_scores, key=lambda x: x[1], reverse=True)\n",
    "    \n",
    "    #Select the top 25 tuples, excluding the first \n",
    "    #(as it is the similarity score of the movie with itself)\n",
    "    sim_scores = sim_scores[1:26]\n",
    "    \n",
    "    #Store the cosine_sim indices of the top 25 movies in a list\n",
    "    movie_indices = [i[0] for i in sim_scores]\n",
    "\n",
    "    #Extract the metadata of the aforementioned movies\n",
    "    movies = smd.iloc[movie_indices][['title', 'vote_count', 'vote_average', 'year', 'id']]\n",
    "    \n",
    "    #Compute the predicted ratings using the SVD filter\n",
    "    movies['est'] = movies['id'].apply(lambda x: svd.predict(userId, id_to_title.loc[x]['movieId']).est)\n",
    "    \n",
    "    #Sort the movies in decreasing order of predicted rating\n",
    "    movies = movies.sort_values('est', ascending=False)\n",
    "    \n",
    "    #Return the top 10 movies as recommendations\n",
    "    return movies.head(10)"
   ]
  },
  {
   "cell_type": "code",
   "execution_count": null,
   "metadata": {},
   "outputs": [],
   "source": [
    "hybrid(1, 'Avatar')"
   ]
  },
  {
   "cell_type": "code",
   "execution_count": null,
   "metadata": {},
   "outputs": [],
   "source": [
    "hybrid(2, 'Avatar')"
   ]
  },
  {
   "cell_type": "code",
   "execution_count": null,
   "metadata": {},
   "outputs": [],
   "source": []
  },
  {
   "cell_type": "code",
   "execution_count": null,
   "metadata": {},
   "outputs": [],
   "source": []
  }
 ],
 "metadata": {
  "kernelspec": {
   "display_name": "Python 3",
   "language": "python",
   "name": "python3"
  },
  "language_info": {
   "codemirror_mode": {
    "name": "ipython",
    "version": 3
   },
   "file_extension": ".py",
   "mimetype": "text/x-python",
   "name": "python",
   "nbconvert_exporter": "python",
   "pygments_lexer": "ipython3",
   "version": "3.8.6"
  }
 },
 "nbformat": 4,
 "nbformat_minor": 2
}
