{
 "cells": [
  {
   "cell_type": "code",
   "execution_count": null,
   "metadata": {},
   "outputs": [],
   "source": [
    "import pandas as pd\n",
    "pd.__version__"
   ]
  },
  {
   "cell_type": "code",
   "execution_count": null,
   "metadata": {},
   "outputs": [],
   "source": [
    "#Read the CSV File into df\n",
    "df = pd.read_csv('../data/movies_metadata.csv', low_memory=False)\n",
    "\n",
    "#We will find out what the following code does a little later!\n",
    "df.head()"
   ]
  },
  {
   "cell_type": "code",
   "execution_count": null,
   "metadata": {},
   "outputs": [],
   "source": [
    "#Output the type of df\n",
    "type(df)"
   ]
  },
  {
   "cell_type": "code",
   "execution_count": null,
   "metadata": {},
   "outputs": [],
   "source": [
    "#Output the shape of df\n",
    "df.shape"
   ]
  },
  {
   "cell_type": "code",
   "execution_count": null,
   "metadata": {},
   "outputs": [],
   "source": [
    "#Output the columns of df\n",
    "df.columns"
   ]
  },
  {
   "cell_type": "code",
   "execution_count": null,
   "metadata": {},
   "outputs": [],
   "source": [
    "#Select the second movie in df\n",
    "second = df.iloc[1]\n",
    "second"
   ]
  },
  {
   "cell_type": "code",
   "execution_count": null,
   "metadata": {},
   "outputs": [],
   "source": [
    "#Change the index to the title\n",
    "df = df.set_index('title')\n",
    "\n",
    "#Access the movie with title 'Jumanji'\n",
    "jum = df.loc['Jumanji']\n",
    "jum"
   ]
  },
  {
   "cell_type": "code",
   "execution_count": null,
   "metadata": {},
   "outputs": [],
   "source": [
    "df = df.reset_index()"
   ]
  },
  {
   "cell_type": "code",
   "execution_count": null,
   "metadata": {},
   "outputs": [],
   "source": [
    "#Create a smaller dataframe with a subset of all features\n",
    "small_df = df[['title', 'release_date', 'budget', 'revenue', 'runtime', 'genres']]\n",
    "\n",
    "#Output only the first 5 rows of small_df\n",
    "small_df.head()"
   ]
  },
  {
   "cell_type": "code",
   "execution_count": null,
   "metadata": {},
   "outputs": [],
   "source": [
    "#Display the first 15 rows\n",
    "small_df.head(15)"
   ]
  },
  {
   "cell_type": "code",
   "execution_count": null,
   "metadata": {},
   "outputs": [],
   "source": [
    "#Get information of the data types of each feature\n",
    "small_df.info()"
   ]
  },
  {
   "cell_type": "code",
   "execution_count": null,
   "metadata": {},
   "outputs": [],
   "source": [
    "df['budget'].astype('float')"
   ]
  },
  {
   "cell_type": "code",
   "execution_count": null,
   "metadata": {},
   "outputs": [],
   "source": [
    "#Import the numpy library \n",
    "import numpy as np\n",
    "\n",
    "#Function to convert to float manually\n",
    "def to_float(x):\n",
    "    try:\n",
    "        x = float(x)\n",
    "    except: \n",
    "        x = np.nan\n",
    "    return x\n",
    "\n",
    "#Apply the to_float function to all values in the budget column\n",
    "small_df['budget'] = small_df['budget'].apply(to_float)\n",
    "\n",
    "#Try converting to float using pandas astype\n",
    "small_df['budget'] = small_df['budget'].astype('float')\n",
    "\n",
    "#Get the data types for all features\n",
    "small_df.info()"
   ]
  },
  {
   "cell_type": "code",
   "execution_count": null,
   "metadata": {},
   "outputs": [],
   "source": [
    "#Convert release_date into pandas datetime format\n",
    "small_df['release_date'] = pd.to_datetime(small_df['release_date'], errors='coerce')\n",
    "\n",
    "#Extract year from the datetime\n",
    "small_df['year'] = small_df['release_date'].apply(lambda x: str(x).split('-')[0] if x != np.nan else np.nan)"
   ]
  },
  {
   "cell_type": "code",
   "execution_count": null,
   "metadata": {},
   "outputs": [],
   "source": [
    "#Sort DataFrame based on release year\n",
    "small_df = small_df.sort_values('year')\n",
    "\n",
    "small_df.head()"
   ]
  },
  {
   "cell_type": "code",
   "execution_count": null,
   "metadata": {},
   "outputs": [],
   "source": [
    "#Sort Movies based on revenue (in descending order)\n",
    "small_df = small_df.sort_values('revenue', ascending=False)\n",
    "\n",
    "small_df.head()"
   ]
  },
  {
   "cell_type": "code",
   "execution_count": null,
   "metadata": {},
   "outputs": [],
   "source": [
    "#Select only those movies which earned more than 1 billion\n",
    "new = small_df[small_df['revenue'] > 1e9]\n",
    "\n",
    "new"
   ]
  },
  {
   "cell_type": "code",
   "execution_count": null,
   "metadata": {},
   "outputs": [],
   "source": [
    "#Select only those movies which earned more than 1 billion and spent less than 150 million\n",
    "\n",
    "new2 = small_df[(small_df['revenue'] > 1e9) & (small_df['budget'] < 1.5e8)]\n",
    "new2"
   ]
  },
  {
   "cell_type": "code",
   "execution_count": null,
   "metadata": {},
   "outputs": [],
   "source": [
    "type(small_df['year'])"
   ]
  },
  {
   "cell_type": "code",
   "execution_count": null,
   "metadata": {},
   "outputs": [],
   "source": [
    "\n",
    "#Get the runtime Series object\n",
    "runtime = small_df['runtime']\n",
    "\n",
    "#Print the longest runtime of any movie\n",
    "print(runtime.max())\n",
    "\n",
    "#Print the shortest runtime of any movie\n",
    "print(runtime.min())"
   ]
  },
  {
   "cell_type": "code",
   "execution_count": null,
   "metadata": {},
   "outputs": [],
   "source": [
    "#Get the budget Series object\n",
    "budget = small_df['budget']\n",
    "\n",
    "#Print the mean budget of the movies\n",
    "print(budget.mean())\n",
    "\n",
    "#Print the median budget of the movies\n",
    "print(budget.median())"
   ]
  },
  {
   "cell_type": "code",
   "execution_count": null,
   "metadata": {},
   "outputs": [],
   "source": [
    "#Get the revenue Series object\n",
    "revenue = small_df['revenue']\n",
    "\n",
    "#Revenue generated by the 90th percentile movie\n",
    "revenue.quantile(0.90)"
   ]
  },
  {
   "cell_type": "code",
   "execution_count": null,
   "metadata": {},
   "outputs": [],
   "source": [
    "#Get number of movies released each year\n",
    "small_df['year'].value_counts()"
   ]
  },
  {
   "cell_type": "code",
   "execution_count": null,
   "metadata": {},
   "outputs": [],
   "source": []
  }
 ],
 "metadata": {
  "kernelspec": {
   "display_name": "Python 3",
   "language": "python",
   "name": "python3"
  },
  "language_info": {
   "codemirror_mode": {
    "name": "ipython",
    "version": 3
   },
   "file_extension": ".py",
   "mimetype": "text/x-python",
   "name": "python",
   "nbconvert_exporter": "python",
   "pygments_lexer": "ipython3",
   "version": "3.8.6"
  }
 },
 "nbformat": 4,
 "nbformat_minor": 2
}
