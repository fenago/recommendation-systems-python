{
 "cells": [
  {
   "cell_type": "code",
   "execution_count": null,
   "metadata": {},
   "outputs": [],
   "source": [
    "import pandas as pd\n",
    "import numpy as np\n",
    "\n",
    "df = pd.read_csv('../data/movies_metadata.csv')\n",
    "\n",
    "#Print all the features (or columns) of the DataFrame\n",
    "df.columns"
   ]
  },
  {
   "cell_type": "code",
   "execution_count": null,
   "metadata": {},
   "outputs": [],
   "source": [
    "#Only keep those features that we require \n",
    "df = df[['title','genres', 'release_date', 'runtime', 'vote_average', 'vote_count']]\n",
    "\n",
    "df.head()"
   ]
  },
  {
   "cell_type": "code",
   "execution_count": null,
   "metadata": {},
   "outputs": [],
   "source": [
    "#Convert release_date into pandas datetime format\n",
    "df['release_date'] = pd.to_datetime(df['release_date'], errors='coerce')\n",
    "\n",
    "#Extract year from the datetime\n",
    "df['year'] = df['release_date'].apply(lambda x: str(x).split('-')[0] if x != np.nan else np.nan)"
   ]
  },
  {
   "cell_type": "code",
   "execution_count": null,
   "metadata": {},
   "outputs": [],
   "source": [
    "#Helper function to convert NaT to 0 and all other years to integers.\n",
    "def convert_int(x):\n",
    "    try:\n",
    "        return int(x)\n",
    "    except:\n",
    "        return 0"
   ]
  },
  {
   "cell_type": "code",
   "execution_count": null,
   "metadata": {},
   "outputs": [],
   "source": [
    "#Apply convert_int to the year feature\n",
    "df['year'] = df['year'].apply(convert_int)"
   ]
  },
  {
   "cell_type": "code",
   "execution_count": null,
   "metadata": {},
   "outputs": [],
   "source": [
    "#Drop the release_date column\n",
    "df = df.drop('release_date', axis=1)\n",
    "\n",
    "#Display the dataframe\n",
    "df.head()"
   ]
  },
  {
   "cell_type": "code",
   "execution_count": null,
   "metadata": {},
   "outputs": [],
   "source": [
    "#Print genres of the first movie\n",
    "df.iloc[0]['genres']"
   ]
  },
  {
   "cell_type": "code",
   "execution_count": null,
   "metadata": {},
   "outputs": [],
   "source": [
    "#Import the literal_eval function from ast\n",
    "from ast import literal_eval\n",
    "\n",
    "#Define a stringified list and output its type\n",
    "a = \"[1,2,3]\"\n",
    "print(type(a))\n",
    "\n",
    "#Apply literal_eval and output type\n",
    "b = literal_eval(a)\n",
    "print(type(b))"
   ]
  },
  {
   "cell_type": "code",
   "execution_count": null,
   "metadata": {},
   "outputs": [],
   "source": [
    "#Convert all NaN into stringified empty lists\n",
    "df['genres'] = df['genres'].fillna('[]')\n",
    "\n",
    "#Apply literal_eval to convert stringified empty lists to the list object\n",
    "df['genres'] = df['genres'].apply(literal_eval)\n",
    "\n",
    "#Convert list of dictionaries to a list of strings\n",
    "df['genres'] = df['genres'].apply(lambda x: [i['name'].lower() for i in x] if isinstance(x, list) else [])"
   ]
  },
  {
   "cell_type": "code",
   "execution_count": null,
   "metadata": {},
   "outputs": [],
   "source": [
    "df.head()"
   ]
  },
  {
   "cell_type": "code",
   "execution_count": null,
   "metadata": {},
   "outputs": [],
   "source": [
    "#Create a new feature by exploding genres\n",
    "s = df.apply(lambda x: pd.Series(x['genres']),axis=1).stack().reset_index(level=1, drop=True)\n",
    "\n",
    "#Name the new feature as 'genre'\n",
    "s.name = 'genre'\n",
    "\n",
    "#Create a new dataframe gen_df which by dropping the old 'genres' feature and adding the new 'genre'.\n",
    "gen_df = df.drop('genres', axis=1).join(s)\n",
    "\n",
    "#Print the head of the new gen_df\n",
    "gen_df.head()"
   ]
  },
  {
   "cell_type": "code",
   "execution_count": null,
   "metadata": {},
   "outputs": [],
   "source": [
    "def build_chart(gen_df, percentile=0.8):\n",
    "    #Ask for preferred genres\n",
    "    print(\"Input preferred genre\")\n",
    "    genre = input()\n",
    "    \n",
    "    #Ask for lower limit of duration\n",
    "    print(\"Input shortest duration\")\n",
    "    low_time = int(input())\n",
    "    \n",
    "    #Ask for upper limit of duration\n",
    "    print(\"Input longest duration\")\n",
    "    high_time = int(input())\n",
    "    \n",
    "    #Ask for lower limit of timeline\n",
    "    print(\"Input earliest year\")\n",
    "    low_year = int(input())\n",
    "    \n",
    "    #Ask for upper limit of timeline\n",
    "    print(\"Input latest year\")\n",
    "    high_year = int(input())\n",
    "    \n",
    "    #Define a new movies variable to store the preferred movies. Copy the contents of gen_df to movies\n",
    "    movies = gen_df.copy()\n",
    "    \n",
    "    #Filter based on the condition\n",
    "    movies = movies[(movies['genre'] == genre) & \n",
    "                    (movies['runtime'] >= low_time) & \n",
    "                    (movies['runtime'] <= high_time) & \n",
    "                    (movies['year'] >= low_year) & \n",
    "                    (movies['year'] <= high_year)]\n",
    "    \n",
    "    #Compute the values of C and m for the filtered movies\n",
    "    C = movies['vote_average'].mean()\n",
    "    m = movies['vote_count'].quantile(percentile)\n",
    "    \n",
    "    #Only consider movies that have higher than m votes. Save this in a new dataframe q_movies\n",
    "    q_movies = movies.copy().loc[movies['vote_count'] >= m]\n",
    "    \n",
    "    #Calculate score using the IMDB formula\n",
    "    q_movies['score'] = q_movies.apply(lambda x: (x['vote_count']/(x['vote_count']+m) * x['vote_average']) \n",
    "                                       + (m/(m+x['vote_count']) * C)\n",
    "                                       ,axis=1)\n",
    "\n",
    "    #Sort movies in descending order of their scores\n",
    "    q_movies = q_movies.sort_values('score', ascending=False)\n",
    "    \n",
    "    return q_movies"
   ]
  },
  {
   "cell_type": "code",
   "execution_count": null,
   "metadata": {},
   "outputs": [],
   "source": [
    "#Generate the chart for top animation movies and display top 5.\n",
    "build_chart(gen_df).head()"
   ]
  },
  {
   "cell_type": "code",
   "execution_count": null,
   "metadata": {},
   "outputs": [],
   "source": [
    "#Convert the cleaned (non-exploded) dataframe df into a CSV file and save it in the data folder\n",
    "#Set parameter index to False as the index of the DataFrame has no inherent meaning.\n",
    "df.to_csv('../data/metadata_clean.csv', index=False)"
   ]
  },
  {
   "cell_type": "code",
   "execution_count": null,
   "metadata": {},
   "outputs": [],
   "source": []
  }
 ],
 "metadata": {
  "kernelspec": {
   "display_name": "Python 3",
   "language": "python",
   "name": "python3"
  },
  "language_info": {
   "codemirror_mode": {
    "name": "ipython",
    "version": 3
   },
   "file_extension": ".py",
   "mimetype": "text/x-python",
   "name": "python",
   "nbconvert_exporter": "python",
   "pygments_lexer": "ipython3",
   "version": "3.8.6"
  }
 },
 "nbformat": 4,
 "nbformat_minor": 2
}
